{
 "cells": [
  {
   "cell_type": "code",
   "execution_count": 1,
   "metadata": {},
   "outputs": [],
   "source": [
    "import cv2 as cv\n",
    "import os\n",
    "import shutil\n",
    "import random\n",
    "import numpy as np\n",
    "from PIL import Image"
   ]
  },
  {
   "cell_type": "markdown",
   "metadata": {},
   "source": [
    "**补充图片"
   ]
  },
  {
   "cell_type": "code",
   "execution_count": 2,
   "metadata": {},
   "outputs": [],
   "source": [
    "def Fill(src_file):#src_file = './dataset/正例'\n",
    "    filename = os.listdir(src_file)\n",
    "    for i in filename:\n",
    "        n = os.listdir(src_file+'/'+i)\n",
    "        if len(n)<5:\n",
    "            n1 = set([n[j].split('--')[1] for j in range(len(n))])\n",
    "            n2 = set(['1.jpg','2.jpg','3.jpg','4.jpg','5.jpg'])\n",
    "            n3 = list(n2 - n1)\n",
    "            for j in n3:\n",
    "                k = 0\n",
    "                while(k<1):\n",
    "                    file = random.sample(filename,1)\n",
    "                    images = os.listdir(src_file+'/' + file[0])\n",
    "                    for im in images:\n",
    "                        if im.endswith(j):\n",
    "                            shutil.copyfile(src_file+'/'+file[0]+'/'+im, src_file+'/'+i+'/'+im)\n",
    "                            k = 1"
   ]
  },
  {
   "cell_type": "code",
   "execution_count": null,
   "metadata": {},
   "outputs": [],
   "source": [
    "Fill('./dataset/正例')"
   ]
  },
  {
   "cell_type": "code",
   "execution_count": 4,
   "metadata": {},
   "outputs": [],
   "source": [
    "Fill('./dataset/负例/ASD')"
   ]
  },
  {
   "cell_type": "code",
   "execution_count": 5,
   "metadata": {},
   "outputs": [],
   "source": [
    "Fill('./dataset/负例/VSD')"
   ]
  },
  {
   "cell_type": "markdown",
   "metadata": {},
   "source": [
    "**裁剪扇形图片"
   ]
  },
  {
   "cell_type": "code",
   "execution_count": 35,
   "metadata": {},
   "outputs": [],
   "source": [
    "def crop(img):\n",
    "    # 绘制扇形  1.目标图片  2.椭圆圆心  3.长短轴长度  4.偏转角度  5.圆弧起始角度  6.终止角度  7.颜色  8.是否填充\n",
    "    dst = np.zeros([768, 1024])\n",
    "    x = cv.ellipse(dst,(530,125),(550,550),0,48,132,255,-1)/255\n",
    "    img = img*x\n",
    "    img = img.astype('uint8')\n",
    "    return img"
   ]
  },
  {
   "cell_type": "code",
   "execution_count": 39,
   "metadata": {},
   "outputs": [],
   "source": [
    "def Tailoring(src_file):#src_file = './dataset/test/正例'\n",
    "    filename = os.listdir(src_file)\n",
    "    for file in filename:\n",
    "        for img in os.listdir(src_file+'/'+file):\n",
    "            if img != '.ipynb_checkpoints':\n",
    "                path = src_file+'/'+file+'/'+img\n",
    "                #print(path)\n",
    "                img = cv.imread(path,cv.IMREAD_GRAYSCALE)\n",
    "                if img.shape != (768, 1024):\n",
    "                    img = cv.resize(img,(1024,768))\n",
    "                img = crop(img)\n",
    "                cv.imwrite(path, img)    "
   ]
  },
  {
   "cell_type": "code",
   "execution_count": 41,
   "metadata": {},
   "outputs": [],
   "source": [
    "Tailoring('./dataset 5c/Negative/VSD')"
   ]
  },
  {
   "cell_type": "markdown",
   "metadata": {},
   "source": [
    "**修改文件名"
   ]
  },
  {
   "cell_type": "code",
   "execution_count": 48,
   "metadata": {},
   "outputs": [],
   "source": [
    "def rename(src_file):#src_file = './dataset/正例'\n",
    "    filename = os.listdir(src_file)\n",
    "    for i in filename:\n",
    "        n = os.listdir(src_file+'/'+i)\n",
    "        for j in n:\n",
    "            if len(j.split('--'))>1:\n",
    "                os.rename(src_file+'/'+i+'/'+j,src_file+'/'+i+'/'+j.split('--')[1])"
   ]
  },
  {
   "cell_type": "code",
   "execution_count": 54,
   "metadata": {},
   "outputs": [],
   "source": [
    "rename('./dataset/test/正例')"
   ]
  },
  {
   "cell_type": "markdown",
   "metadata": {},
   "source": [
    "**删除dataset中ipynb_checkpoints文件"
   ]
  },
  {
   "cell_type": "code",
   "execution_count": 30,
   "metadata": {},
   "outputs": [],
   "source": [
    "def rm_ipynb_checkpoints(src_file):\n",
    "    filename = os.listdir(src_file)\n",
    "    for file in filename:\n",
    "        if file == '.ipynb_checkpoints':\n",
    "            shutil.rmtree(src_file+'/'+file)\n",
    "            print(0)\n",
    "        else:\n",
    "            for img in os.listdir(src_file+'/'+file):\n",
    "                if img == '.ipynb_checkpoints':\n",
    "                    print(1)\n",
    "                    shutil.rmtree(src_file+'/'+file+'/'+img)"
   ]
  },
  {
   "cell_type": "code",
   "execution_count": 32,
   "metadata": {},
   "outputs": [
    {
     "name": "stdout",
     "output_type": "stream",
     "text": [
      "1\n"
     ]
    }
   ],
   "source": [
    "rm_ipynb_checkpoints('./dataset/test/正例')\n",
    "rm_ipynb_checkpoints('./dataset/test/负例/ASD')\n",
    "rm_ipynb_checkpoints('./dataset/test/负例/VSD')\n",
    "rm_ipynb_checkpoints('./dataset/train/正例')\n",
    "rm_ipynb_checkpoints('./dataset/train/负例/ASD')\n",
    "rm_ipynb_checkpoints('./dataset/train/负例/VSD')"
   ]
  },
  {
   "cell_type": "markdown",
   "metadata": {},
   "source": [
    "**矩形裁剪"
   ]
  },
  {
   "cell_type": "code",
   "execution_count": 42,
   "metadata": {},
   "outputs": [],
   "source": [
    "def crop_M(src_file):\n",
    "    filename = os.listdir(src_file)\n",
    "    for file in filename:\n",
    "        for img in os.listdir(src_file+'/'+file):\n",
    "            image = Image.open(src_file+'/'+file+'/'+img)\n",
    "            image = image.crop([230,150,830,650])\n",
    "            image.save(src_file+'/'+file+'/'+img)"
   ]
  },
  {
   "cell_type": "code",
   "execution_count": 43,
   "metadata": {},
   "outputs": [],
   "source": [
    "crop_M('./dataset 5c/Positive')\n",
    "crop_M('./dataset 5c/Negative/ASD')\n",
    "crop_M('./dataset 5c/Negative/VSD')"
   ]
  },
  {
   "cell_type": "markdown",
   "metadata": {},
   "source": [
    "**从视频中抽取A4C图像"
   ]
  },
  {
   "cell_type": "code",
   "execution_count": 2,
   "metadata": {},
   "outputs": [],
   "source": [
    "def extract_img(root_file):\n",
    "    paths = []\n",
    "    for r,d,f in os.walk(root_file):\n",
    "        for i in d:\n",
    "            if i == '四腔心二维动态':\n",
    "                paths.append(r+'/'+i)\n",
    "    for p in paths:\n",
    "        filename = os.listdir(p)\n",
    "        for f in filename:\n",
    "            cap = cv.VideoCapture(os.path.join(p,f))\n",
    "            s = 0\n",
    "            while(True):\n",
    "                ret, frame = cap.read()\n",
    "                if ret == True:\n",
    "                    s+=1\n",
    "                else:\n",
    "                    break\n",
    "                if s%10==0:\n",
    "                    cv.imwrite('./dataset2/Negative/VSD/'+f.split('.avi')[0]+'_'+str(s//10)+'.jpg',frame)\n",
    "            "
   ]
  },
  {
   "cell_type": "code",
   "execution_count": 24,
   "metadata": {},
   "outputs": [],
   "source": [
    "extract_img('../先心病数据二/二维动态/正常')"
   ]
  },
  {
   "cell_type": "code",
   "execution_count": 26,
   "metadata": {},
   "outputs": [],
   "source": [
    "extract_img('../先心病数据二/二维动态/ASD')"
   ]
  },
  {
   "cell_type": "code",
   "execution_count": 28,
   "metadata": {},
   "outputs": [],
   "source": [
    "extract_img('../先心病数据二/二维动态/VSD')"
   ]
  },
  {
   "cell_type": "markdown",
   "metadata": {},
   "source": [
    "**将dataset1中的A4C和合并到dataset2中"
   ]
  },
  {
   "cell_type": "code",
   "execution_count": 44,
   "metadata": {},
   "outputs": [],
   "source": [
    "def sum_A4Cimg(src_file):\n",
    "    filename = os.listdir(src_file)\n",
    "    for f in filename:\n",
    "        for img in os.listdir(os.path.join(src_file, f)):\n",
    "            print(img)\n",
    "            if img.split('--')[1]=='3.jpg':\n",
    "                shutil.copy(src_file+'/'+f+'/'+img, './dataset2/Positive/'+img)"
   ]
  },
  {
   "cell_type": "code",
   "execution_count": null,
   "metadata": {},
   "outputs": [],
   "source": [
    "sum_A4Cimg('./dataset原版/1最终版本/正例')"
   ]
  },
  {
   "cell_type": "markdown",
   "metadata": {},
   "source": [
    "**从视频中抽取5张图片"
   ]
  },
  {
   "cell_type": "code",
   "execution_count": 34,
   "metadata": {},
   "outputs": [],
   "source": [
    "paths = []\n",
    "for r,d,f in os.walk('./二维动态/VSD'):\n",
    "    if '四腔心二维动态' in d:\n",
    "        paths.append(r)\n",
    "f = 0\n",
    "for path in paths:\n",
    "    for i in os.listdir(os.path.join(path, '四腔心二维动态' )):\n",
    "        cap1 = cv.VideoCapture(os.path.join(os.path.join(path, '四腔心二维动态' ),i))\n",
    "        #print(os.path.join(path, '四腔心二维动态' ),i)\n",
    "        D = int(i[-21:-4])\n",
    "        v = []\n",
    "        ff = ['大动脉短轴二维动态','剑下双房二维动态','主动脉弓长轴二维动态','左室长轴二维动态']\n",
    "        for j in ff:\n",
    "            min_D = 10000000000\n",
    "            for k in os.listdir(os.path.join(path, j )):\n",
    "                #print(os.path.join(path, j ),k)\n",
    "                if abs(int(i[-21:-4])-int(k[-21:-4]))<min_D:\n",
    "                    min_D = abs(int(i[-21:-4])-int(k[-21:-4]))\n",
    "                    k1 = k\n",
    "            v.append(k1)\n",
    "        cap2 = cv.VideoCapture(os.path.join(os.path.join(path, ff[0] ),v[0]))\n",
    "        cap3 = cv.VideoCapture(os.path.join(os.path.join(path, ff[1] ),v[1]))\n",
    "        cap4 = cv.VideoCapture(os.path.join(os.path.join(path, ff[2] ),v[2]))\n",
    "        cap5 = cv.VideoCapture(os.path.join(os.path.join(path, ff[3] ),v[3]))\n",
    "        #print(v)\n",
    "        s = 0\n",
    "        while(True):\n",
    "            ret1, frame1 = cap2.read()\n",
    "            ret2, frame2 = cap3.read()\n",
    "            ret3, frame3 = cap1.read()\n",
    "            ret4, frame4 = cap4.read()\n",
    "            ret5, frame5 = cap5.read()   \n",
    "            if (ret1,ret2,ret3,ret4,ret5) == (True,True,True,True,True):\n",
    "                s+=1\n",
    "            else:\n",
    "                break\n",
    "            if s%10==0:\n",
    "                f += 1\n",
    "                os.mkdir('./dataset 5c/Negative/VSD/'+str(f))\n",
    "                cv.imwrite('./dataset 5c/Negative/VSD/'+str(f)+'/1.jpg',frame1)\n",
    "                cv.imwrite('./dataset 5c/Negative/VSD/'+str(f)+'/2.jpg',frame2)\n",
    "                cv.imwrite('./dataset 5c/Negative/VSD/'+str(f)+'/3.jpg',frame3)\n",
    "                cv.imwrite('./dataset 5c/Negative/VSD/'+str(f)+'/4.jpg',frame4)\n",
    "                cv.imwrite('./dataset 5c/Negative/VSD/'+str(f)+'/5.jpg',frame5)"
   ]
  },
  {
   "cell_type": "code",
   "execution_count": 2,
   "metadata": {},
   "outputs": [
    {
     "name": "stdout",
     "output_type": "stream",
     "text": [
      "1\n",
      "1\n",
      "1\n",
      "1\n",
      "1\n",
      "1\n",
      "1\n",
      "1\n",
      "1\n",
      "1\n"
     ]
    }
   ],
   "source": [
    "import shutil\n",
    "import os\n",
    "for r,d,f in os.walk(('./')):\n",
    "    if '.ipynb_checkpoints' in d:\n",
    "        shutil.rmtree(r+'/.ipynb_checkpoints')\n",
    "        print(1)"
   ]
  },
  {
   "cell_type": "markdown",
   "metadata": {},
   "source": [
    "**将数据集分为train、verify和test"
   ]
  },
  {
   "cell_type": "code",
   "execution_count": 4,
   "metadata": {},
   "outputs": [],
   "source": [
    "f1 = os.listdir('./dataset 5c/Positive')\n",
    "f2 = os.listdir('./dataset 5c/Negative/ASD')\n",
    "f3 = os.listdir('./dataset 5c/Negative/VSD')"
   ]
  },
  {
   "cell_type": "code",
   "execution_count": 5,
   "metadata": {},
   "outputs": [
    {
     "name": "stdout",
     "output_type": "stream",
     "text": [
      "3856 891 1270\n"
     ]
    }
   ],
   "source": [
    "print(len(f1),len(f2),len(f3))"
   ]
  },
  {
   "cell_type": "code",
   "execution_count": 6,
   "metadata": {},
   "outputs": [],
   "source": [
    "n1 = np.arange(3856)\n",
    "n2 = np.arange(891)\n",
    "n3 = np.arange(1270)\n",
    "np.random.shuffle(n1)\n",
    "np.random.shuffle(n2)\n",
    "np.random.shuffle(n3)"
   ]
  },
  {
   "cell_type": "code",
   "execution_count": 10,
   "metadata": {},
   "outputs": [],
   "source": [
    "for i in n1[0:385]:\n",
    "    shutil.move('./dataset 5c/Positive/'+f1[i],'./dataset 5c/verify/Positive/'+f1[i])\n",
    "for i in n1[385:770]:\n",
    "    shutil.move('./dataset 5c/Positive/'+f1[i],'./dataset 5c/test/Positive/'+f1[i])"
   ]
  },
  {
   "cell_type": "code",
   "execution_count": 12,
   "metadata": {},
   "outputs": [],
   "source": [
    "for i in n2[0:89]:\n",
    "    shutil.move('./dataset 5c/Negative/ASD/'+f2[i],'./dataset 5c/verify/Negative/ASD/'+f2[i])\n",
    "for i in n2[89:178]:\n",
    "    shutil.move('./dataset 5c/Negative/ASD/'+f2[i],'./dataset 5c/test/Negative/ASD/'+f2[i])"
   ]
  },
  {
   "cell_type": "code",
   "execution_count": 13,
   "metadata": {},
   "outputs": [],
   "source": [
    "for i in n3[0:127]:\n",
    "    shutil.move('./dataset 5c/Negative/VSD/'+f3[i],'./dataset 5c/verify/Negative/VSD/'+f3[i])\n",
    "for i in n3[127:254]:\n",
    "    shutil.move('./dataset 5c/Negative/VSD/'+f3[i],'./dataset 5c/test/Negative/VSD/'+f3[i])"
   ]
  }
 ],
 "metadata": {
  "kernelspec": {
   "display_name": "Python 3",
   "language": "python",
   "name": "python3"
  },
  "language_info": {
   "codemirror_mode": {
    "name": "ipython",
    "version": 3
   },
   "file_extension": ".py",
   "mimetype": "text/x-python",
   "name": "python",
   "nbconvert_exporter": "python",
   "pygments_lexer": "ipython3",
   "version": "3.7.3"
  }
 },
 "nbformat": 4,
 "nbformat_minor": 4
}
